from dataclasses import dataclass
import time
from tqdm import tqdm
from multiprocessing import Pool
from sklearn import preprocessing

import matplotlib.pyplot as plt
import matplotlib.path as mpath
from matplotlib import cm
from mpl_toolkits.axes_grid1.inset_locator import inset_axes
from matplotlib.ticker import MultipleLocator, FormatStrFormatter,FuncFormatter
from matplotlib.dates import YearLocator, MonthLocator, DayLocator, HourLocator, MinuteLocator, SecondLocator, DateFormatter
import matplotlib.dates as mdates
import matplotlib.gridspec as gridspec

import cartopy.crs as ccrs
import cartopy.feature as cfeature

import obspy as op
from obspy import read,read_inventory, UTCDateTime, Stream, Trace
from obspy.clients.fdsn.client import Client
from obspy.signal.rotate import rotate_ne_rt
from obspy.geodetics import gps2dist_azimuth,kilometers2degrees
from obspy.taup import TauPyModel

import json
import glob
import os
import numpy as np
from itertools import combinations
import pandas as pd
from scipy.signal import spectrogram, detrend, resample,savgol_filter,decimate,hilbert
from scipy.stats import circmean, circstd

import pyarrow.feather as feather
import seaborn as sns

import datetime

from sklearn.linear_model import LinearRegression,HuberRegressor,TheilSenRegressor


# ==================
# Configuration file
# ==================

# Folders input

EVENT_DIR = '/medata02/SEISCOMP_DATA/'

XML_DIR = '/home/sysop/dados_posdoc/PROJETO_RSIS/XML/'

# Folders output

ORIENTATION_OUTPUT = '/home/sysop/dados_posdoc/PROJETO_RSIS/ORIENTATION_OUTPUT/'

# -------------------------------

# Stations and OBSs information

STATION_LST = ['TER01','MAJ01','NAN01','VAS01','DUB01','CAM01','MAN01','ALF01','RIB01','GUA01','CMC01','GDU01','ANA01']
PERIOD_BANDS = [0.02,0.5]


# -------------------------------

# create figures?

VERBOSE = True

# Input parameters

FIRSTDAY = '2020-01-01'
LASTDAY = '2020-12-31'

# default parameters to define the signal and noise windows used to estimate the SNR:
# - the signal window is defined according to time after Rayleigh-wave arrival:

TIME_WINDOW = 30

# Rayleigh-wave time windows start
TIME_START_P_REGIONAL = 3

# Rayleigh-wave time windows final
TIME_FINAL_P_REGIONAL = 12

# min magnitude
minmagnitude = 6

# distance (MIN & MAX)
GCARC_MIN = 5
GCARC_MAX = 100

# -------------------------------
# Mappoing parameters

LLCRNRLON_LARGE = -50
URCRNRLON_LARGE = -38
LLCRNRLAT_LARGE = -30
URCRNRLAT_LARGE = -12

# -------------------------------

# Constants and parameters

ONEDAY = datetime.timedelta(days=1)

# -------------------------------

# MULTIPROCESSING

num_processes = 20

# =================
# Filtering by date
# =================

fday = UTCDateTime(FIRSTDAY)
lday = UTCDateTime(LASTDAY)
INTERVAL_PERIOD = [UTCDateTime(x.astype(str)) for x in np.arange(fday.datetime,lday.datetime+ONEDAY,ONEDAY)]
INTERVAL_PERIOD_DATE = [str(x.year)+'.'+"%03d" % x.julday for x in INTERVAL_PERIOD]


# Formatar os rótulos do eixo Y para exibir o símbolo de graus
def format_y_ticks(value, _):
    return f"{value:.0f}°"


FEATHER_FILES_LST = [pd.read_feather(i) for i in glob.glob(ORIENTATION_OUTPUT+'FEATHER_FILES/*/*')]


station_df = pd.concat(FEATHER_FILES_LST)
station_df['year'] = station_df['event'].str.split('.').str[0].astype(int)


station_df


plt.rcParams.update({'font.size': 14})  # Define o tamanho global da fonte

for sta in tqdm(STATION_LST,total=len(STATION_LST),desc='Station'):
    df_sta = station_df[station_df['station'] == sta]

    YEAR_min = df_sta['year'].min()
    YEAR_max = df_sta['year'].max()

    years = np.arange(df_sta['year'].min(),df_sta['year'].max()+1,1)
    
    #Creating the figure
    fig = plt.figure(figsize=(10, 10))
    gs = gridspec.GridSpec(2, 1,height_ratios=[10,1],hspace=0.01)

    # axis 1: orientation measurements
    ax1 = fig.add_subplot(gs[0])
    
    # axis 2: number of measurements
    ax2 = fig.add_subplot(gs[1],sharex=ax1)
    
    for idx,ye in enumerate(years):

        df_sta_year = df_sta[df_sta['year'] == int(ye)]

        if df_sta_year.empty:
            pass
        else:

            orientations_bad = df_sta_year[df_sta_year['quality'] == 'bad']['orient'].values
            orientations_good = df_sta_year[df_sta_year['quality'] == 'good']['orient'].values
            snr_bad = df_sta_year[df_sta_year['quality'] == 'bad']['SNR'].abs().values
            snr_good = df_sta_year[df_sta_year['quality'] == 'good']['SNR'].abs().values

            mean_sta = round(circmean(orientations_good, high=360, low=-360),1)
            std_sta = round(circstd(np.radians(orientations_good)),2)

            # statistics
            ax1.scatter([ye]*len(orientations_bad),orientations_bad,marker='.',c='gray',s=snr_bad*10,alpha=0.2,ec='k',label='bad')
            ax1.scatter([ye]*len(orientations_good),orientations_good,marker='.',c='k',s=snr_good*10,alpha=0.5,ec='k',label='good')
            ax1.annotate(str(mean_sta)+'$\pm$'+str(std_sta)+'°', (ye, 100),fontsize=10, va='center',ha='center',bbox=dict(boxstyle="round", fc="white",ec='k'))
            ax1.boxplot(orientations_good,positions=[ye],sym='',showmeans=False,widths=0.5,bootstrap=5000)
            
            # Number of events
            ax2.bar(ye, len(df_sta_year['orient']), color='gray',width=0.2,alpha=0.5)
            ax2.bar(ye, len(df_sta_year[df_sta_year['quality'] == 'good']['orient']), color='k',edgecolor='k',width=0.1)

    ax1.set_ylabel(r'Orientation($\theta$)')
    ax1.set_xlabel('Year')
    ax1.set_ylim(-105,105)
    ax1.xaxis.set_major_locator(MultipleLocator(1))
    ax1.yaxis.set_major_locator(MultipleLocator(20))
    ax1.yaxis.set_minor_locator(MultipleLocator(10))   
    ax1.yaxis.set_major_formatter(FuncFormatter(format_y_ticks))
    ax1.grid(True)
    ax1.tick_params(axis="x", labelbottom=False, labeltop=True)
    #ax1.set_title(sta+'('+str(YEAR_min)+'-'+str(YEAR_max)+')',fontsize=20)
    ax1.set_title(sta,fontsize=20)

    ax2.xaxis.set_major_locator(MultipleLocator(1))
    ax2.yaxis.set_major_locator(MultipleLocator(25))
    ax2.set_ylim(0,60)
    ax2.set_ylabel("n")
    ax2.grid(True)

    output_figure_ORIENTATION = ORIENTATION_OUTPUT+'ORIENTATION_FIGURES/FINAL_RESULT/'
    os.makedirs(output_figure_ORIENTATION,exist_ok=True)
    fig.savefig(output_figure_ORIENTATION+'ORIENTATION_TOTAL_'+sta+'.png',dpi=300)
    plt.close()


plt.rcParams.update({'font.size': 14})  # Define o tamanho global da fonte
#sns.set_theme(style="whitegrid")

for sta in tqdm(STATION_LST,total=len(STATION_LST),desc='Station'):
    df_sta = station_df[station_df['station'] == sta]
    df_sta_good = df_sta[df_sta['quality'] == 'good']

    # Initialize the figure
    f, ax = plt.subplots()
    sns.despine(bottom=True, left=True)
    
    # Show each observation with a scatterplot
    sns.boxplot(
        data=df_sta_good, x="year", y="orient", hue="quality",whis=[0, 100], width=.6, palette="vlag")

    sns.stripplot(df_sta_good, x="year", y="orient", size=4, color=".3")

    # Improve the legend
    sns.move_legend(
        ax, loc="upper left", ncol=1, frameon=True, columnspacing=1, handletextpad=0,
    )

    # Tweak the visual presentation
    ax.set_title(sta)
    ax.xaxis.grid(True)
    ax.set_ylabel("Orientation Angle (deg)")
    ax.set_ylim(-90,90)
    sns.despine(trim=True, left=True)



